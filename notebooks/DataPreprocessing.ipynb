{
 "cells": [
  {
   "cell_type": "code",
   "execution_count": 6,
   "id": "c8ea670f",
   "metadata": {},
   "outputs": [],
   "source": [
    "# Importing libraries\n",
    "import os\n",
    "import music21 as m21"
   ]
  },
  {
   "cell_type": "code",
   "execution_count": 7,
   "id": "09434131",
   "metadata": {},
   "outputs": [],
   "source": [
    "# Loadind the data from application yaml\n",
    "import yaml\n",
    "\n",
    "with open(\"../config/application.yaml\", \"r\") as file:\n",
    "    config = yaml.safe_load(file)\n",
    "    \n",
    "dataset_path = config['dataset_path']"
   ]
  },
  {
   "cell_type": "code",
   "execution_count": 8,
   "id": "943c74c4",
   "metadata": {},
   "outputs": [],
   "source": [
    "# defining a funtion to load all the files of the data set\n",
    "songs = []\n",
    "\n",
    "def load_songs_kern_dataset(dataset_path):\n",
    "    for path, subdirs, files in os.walk(dataset_path):\n",
    "        \n",
    "        # we need to filter out the \".krn\" files from the dataset\n",
    "        for file in files:\n",
    "            if file.endswith('.krn'):\n",
    "                song = m21.converter.parse(os.path.join(path, file))\n",
    "                songs.append(song)\n",
    "    return songs"
   ]
  },
  {
   "cell_type": "code",
   "execution_count": 9,
   "id": "7221d170",
   "metadata": {},
   "outputs": [],
   "source": [
    "# function to preproces the songs dataset and prepare the data for our model\n",
    "\n",
    "def preprocess_songs(dataset_path):\n",
    "    # Load the songs from the dataset\n",
    "    print(\"Loading songs from dataset...\")\n",
    "    songs = load_songs_kern_dataset(dataset_path)\n",
    "    print(f\"Loaded {len(songs)} songs from the dataset.\")"
   ]
  },
  {
   "cell_type": "code",
   "execution_count": 10,
   "id": "737fc470",
   "metadata": {},
   "outputs": [
    {
     "name": "stdout",
     "output_type": "stream",
     "text": [
      "Loading songs from dataset...\n",
      "Loaded 12 songs from the dataset.\n",
      "Preprocessing completed.\n"
     ]
    }
   ],
   "source": [
    "if __name__ == \"__main__\":\n",
    "    preprocess_songs(dataset_path)\n",
    "    print(\"Preprocessing completed.\")"
   ]
  }
 ],
 "metadata": {
  "kernelspec": {
   "display_name": "base",
   "language": "python",
   "name": "python3"
  },
  "language_info": {
   "codemirror_mode": {
    "name": "ipython",
    "version": 3
   },
   "file_extension": ".py",
   "mimetype": "text/x-python",
   "name": "python",
   "nbconvert_exporter": "python",
   "pygments_lexer": "ipython3",
   "version": "3.8.8"
  }
 },
 "nbformat": 4,
 "nbformat_minor": 5
}
