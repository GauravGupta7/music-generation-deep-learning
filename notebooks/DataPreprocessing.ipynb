{
 "cells": [
  {
   "cell_type": "code",
   "execution_count": 119,
   "id": "c8ea670f",
   "metadata": {},
   "outputs": [],
   "source": [
    "# Importing libraries\n",
    "import os\n",
    "import music21 as m21\n",
    "import json\n",
    "import tensorflow.keras as keras\n",
    "import numpy as np"
   ]
  },
  {
   "cell_type": "code",
   "execution_count": 120,
   "id": "09434131",
   "metadata": {},
   "outputs": [],
   "source": [
    "# Loadind the data from application yaml\n",
    "import yaml\n",
    "\n",
    "with open(\"../config/application.yaml\", \"r\") as file:\n",
    "    config = yaml.safe_load(file)\n",
    "    \n",
    "dataset_path = config['dataset_path']\n",
    "acceptable_durations = config['acceptable_durations']\n",
    "save_path = config['save_path']\n",
    "sequence_length = config['sequence_length']\n",
    "mapping_file_path = config['mapping_file_path']"
   ]
  },
  {
   "cell_type": "code",
   "execution_count": 121,
   "id": "943c74c4",
   "metadata": {},
   "outputs": [],
   "source": [
    "# defining a funtion to load all the files of the data set\n",
    "songs = []\n",
    "\n",
    "def load_songs_kern_dataset(dataset_path):\n",
    "    for path, subdirs, files in os.walk(dataset_path):\n",
    "        \n",
    "        # we need to filter out the \".krn\" files from the dataset\n",
    "        for file in files:\n",
    "            if file.endswith('.krn'):\n",
    "                song = m21.converter.parse(os.path.join(path, file))\n",
    "                songs.append(song)\n",
    "    return songs"
   ]
  },
  {
   "cell_type": "code",
   "execution_count": 122,
   "id": "58ca98dc",
   "metadata": {},
   "outputs": [],
   "source": [
    "# Function to transpose a song to another scale\n",
    "def transpose(song): \n",
    "    # get key from the song\n",
    "    parts = song.getElementsByClass(m21.stream.Part)\n",
    "    measure_part0 = parts[0].getElementsByClass(m21.stream.Measure)\n",
    "    key = measure_part0[0][4]\n",
    "    \n",
    "    # if key not present then estimate the key using music21\n",
    "    if not isinstance(key, m21.key.Key):\n",
    "        key = song.analyze('key')\n",
    "        \n",
    "    # get the interval for transposition (example: BMaj to CMaj)\n",
    "    if key.mode == 'major':\n",
    "        interval = m21.interval.Interval(key.tonic, m21.pitch.Pitch('C'))\n",
    "    elif key.mode == 'minor':\n",
    "        interval = m21.interval.Interval(key.tonic, m21.pitch.Pitch('A'))\n",
    "        \n",
    "    # transpose the song\n",
    "    transposed_song = song.transpose(interval)\n",
    "    \n",
    "    return transposed_song  "
   ]
  },
  {
   "cell_type": "markdown",
   "id": "29916cf6",
   "metadata": {},
   "source": [
    "Here we will encode the song into code-understandable form. We will encode the pitch by numbers and duration by '_'. The encode_song function will convert the song to its encoded form. \n",
    "\n",
    "For example, if pitch is 60 and duration is 1.0 then this note will be encoded as:\n",
    "[60, \"\\_\", \"\\_\", \"\\_\"]"
   ]
  },
  {
   "cell_type": "code",
   "execution_count": 123,
   "id": "98a45f00",
   "metadata": {},
   "outputs": [],
   "source": [
    "# Function to encode pitch and duration of song to machine-readable format\n",
    "def encode_song(song, time_step=0.25):\n",
    "    encoded_song = []\n",
    "    for event in song.flat.notesAndRests:\n",
    "        if isinstance(event, m21.note.Note):\n",
    "            symbol = event.pitch.midi\n",
    "        elif isinstance(event, m21.note.Rest):\n",
    "            symbol = 'r'\n",
    "            \n",
    "        # convert the notes and rests into time series notation\n",
    "        steps = int(event.duration.quarterLength/time_step)\n",
    "        for step in range(steps):\n",
    "            if step == 0:\n",
    "                encoded_song.append(symbol)\n",
    "            else:\n",
    "                encoded_song.append('_')\n",
    "                \n",
    "    # Calculate the duration of the song\n",
    "    encoded_song = \" \".join(map(str, encoded_song))\n",
    "    \n",
    "    return encoded_song"
   ]
  },
  {
   "cell_type": "code",
   "execution_count": 124,
   "id": "7221d170",
   "metadata": {},
   "outputs": [],
   "source": [
    "\n",
    "# function to preproces the songs dataset and prepare the data for our model\n",
    "\n",
    "def preprocess_songs(dataset_path):\n",
    "    # Load the songs from the dataset\n",
    "    print(\"Loading songs from dataset...\")\n",
    "    songs = load_songs_kern_dataset(dataset_path)\n",
    "    print(f\"Loaded {len(songs)} songs from the dataset.\")\n",
    "    \n",
    "    # Filter songs based on acceptable durations\n",
    "    print(\"Filtering songs based on acceptable durations...\")\n",
    "    for i, song in enumerate(songs):\n",
    "        if not has_acceptable_duration(song, acceptable_durations):\n",
    "            continue\n",
    "    \n",
    "        # Transpose song to C major or A minor\n",
    "        song = transpose(song)\n",
    "        \n",
    "        # Encode songs with music time series representation\n",
    "        encoded_song = encode_song(song)   \n",
    "        \n",
    "        # Save the encoded song to a file in save path\n",
    "        saved_path = os.path.join(save_path,  f\"song_{i}.txt\")\n",
    "        with open(saved_path, 'w') as fp:\n",
    "            fp.write(encoded_song)"
   ]
  },
  {
   "cell_type": "code",
   "execution_count": 125,
   "id": "c6122f33",
   "metadata": {},
   "outputs": [],
   "source": [
    "# Function to check whether a song has acceptable duration\n",
    "def has_acceptable_duration(song, acceptable_durations):\n",
    "    for note in song.flat.notesAndRests:\n",
    "        if note.duration.quarterLength not in acceptable_durations:\n",
    "            return False\n",
    "    return True"
   ]
  },
  {
   "cell_type": "code",
   "execution_count": 126,
   "id": "7accde95",
   "metadata": {},
   "outputs": [],
   "source": [
    "def load(file_path):\n",
    "    with open(file_path, 'r') as fp:\n",
    "        song = fp.read()\n",
    "    return song"
   ]
  },
  {
   "cell_type": "code",
   "execution_count": 127,
   "id": "469dafda",
   "metadata": {},
   "outputs": [],
   "source": [
    "# Creating a single file that will contain all the songs\n",
    "def create_single_file_dataset(dataset_path, sequence_length):\n",
    "    new_song_delimiter = \"/ \" * sequence_length\n",
    "    songs = \"\"\n",
    "    \n",
    "    # Load encoded songs and add delimiters\n",
    "    for path, _, files in os.walk(dataset_path):\n",
    "        for file in files:\n",
    "            file_path = os.path.join(path, file)\n",
    "            song = load(file_path)\n",
    "            songs = songs + song + \" \" + new_song_delimiter\n",
    "            songs = songs[:-1]     # remove the last delimiter to avoid trailing spaces\n",
    "            \n",
    "    # save the string in the single file\n",
    "    dataset_path1 = os.path.join(dataset_path,  f\"songs.txt\")\n",
    "    with open(dataset_path1, \"w\") as fp:\n",
    "        fp.write(songs)\n",
    "        \n",
    "    return songs"
   ]
  },
  {
   "cell_type": "code",
   "execution_count": 128,
   "id": "84fdd4ac",
   "metadata": {},
   "outputs": [],
   "source": [
    "# Creating a lookup table for all the symbols used in the final dataset\n",
    "def create_mapping(songs, mapping_file_path):\n",
    "    mappings = {}\n",
    "     \n",
    "    # Identify the vocabluary\n",
    "    songs = songs.split()\n",
    "    vocabulary = list(set(songs))\n",
    "     \n",
    "    # Create mappings\n",
    "    for i, symbol in enumerate(vocabulary):\n",
    "        mappings[symbol] = i\n",
    "         \n",
    "    # save the vocalbuary to a file\n",
    "    with open(mapping_file_path, 'w') as fp:\n",
    "        json.dump(mappings, fp, indent=4)"
   ]
  },
  {
   "cell_type": "code",
   "execution_count": 129,
   "id": "3ef7cf8d",
   "metadata": {},
   "outputs": [],
   "source": [
    "def convert_songs_to_int(songs):\n",
    "    int_songs = []\n",
    "    \n",
    "    # Load mappings\n",
    "    with open(mapping_file_path, 'r') as fp:\n",
    "        mappings = json.load(fp)\n",
    "        \n",
    "    # Cast song string to a list\n",
    "    songs = songs.split()\n",
    "    \n",
    "    # Map song to the int\n",
    "    for symbol in songs:\n",
    "        int_songs.append(mappings[symbol])\n",
    "    \n",
    "    return int_songs"
   ]
  },
  {
   "cell_type": "code",
   "execution_count": null,
   "id": "03678b88",
   "metadata": {},
   "outputs": [],
   "source": [
    "def generating_training_sequences(sequence_length):\n",
    "    # Load songs and map them to integers\n",
    "    single_file_dataset = save_path + \"/songs.txt\"\n",
    "    songs = load(single_file_dataset)\n",
    "    int_songs = convert_songs_to_int(songs)\n",
    "    \n",
    "    # Generate training sequences\n",
    "    inputs = []\n",
    "    targets = []\n",
    "    num_sequences = len(int_songs) - sequence_length\n",
    "    for i in range(num_sequences):\n",
    "        inputs = np.append(inputs, int_songs[i:i + sequence_length])\n",
    "        targets = np.append(targets, int_songs[i + sequence_length])\n",
    "        inputs = inputs[:50000]  # Limit the number of inputs to 50000\n",
    "        targets = targets[:50000]  # Limit the number of targets to 50000\n",
    "        \n",
    "        # One hot encoding the sequence\n",
    "        vocabulary_size = len(set(int_songs))\n",
    "        inputs = keras.utils.to_categorical(inputs, num_classes=vocabulary_size)\n",
    "        targets = np.array(targets)\n",
    "        \n",
    "    return inputs, targets"
   ]
  },
  {
   "cell_type": "code",
   "execution_count": 131,
   "id": "6a6f70de",
   "metadata": {},
   "outputs": [],
   "source": [
    "def main():\n",
    "    preprocess_songs(dataset_path)\n",
    "    songs = create_single_file_dataset(save_path, sequence_length)\n",
    "    create_mapping(songs, mapping_file_path)\n",
    "    inputs, targets = generating_training_sequences(sequence_length)"
   ]
  },
  {
   "cell_type": "code",
   "execution_count": 132,
   "id": "737fc470",
   "metadata": {},
   "outputs": [
    {
     "name": "stdout",
     "output_type": "stream",
     "text": [
      "Loading songs from dataset...\n",
      "Loaded 12 songs from the dataset.\n",
      "Filtering songs based on acceptable durations...\n"
     ]
    },
    {
     "ename": "MemoryError",
     "evalue": "Unable to allocate 28.3 GiB for an array with shape (345538752, 22) and data type float32",
     "output_type": "error",
     "traceback": [
      "\u001b[1;31m---------------------------------------------------------------------------\u001b[0m",
      "\u001b[1;31mMemoryError\u001b[0m                               Traceback (most recent call last)",
      "Cell \u001b[1;32mIn[132], line 2\u001b[0m\n\u001b[0;32m      1\u001b[0m \u001b[38;5;28;01mif\u001b[39;00m \u001b[38;5;18m__name__\u001b[39m \u001b[38;5;241m==\u001b[39m \u001b[38;5;124m\"\u001b[39m\u001b[38;5;124m__main__\u001b[39m\u001b[38;5;124m\"\u001b[39m:\n\u001b[1;32m----> 2\u001b[0m     \u001b[43mmain\u001b[49m\u001b[43m(\u001b[49m\u001b[43m)\u001b[49m\n",
      "Cell \u001b[1;32mIn[131], line 5\u001b[0m, in \u001b[0;36mmain\u001b[1;34m()\u001b[0m\n\u001b[0;32m      3\u001b[0m songs \u001b[38;5;241m=\u001b[39m create_single_file_dataset(save_path, sequence_length)\n\u001b[0;32m      4\u001b[0m create_mapping(songs, mapping_file_path)\n\u001b[1;32m----> 5\u001b[0m inputs, targets \u001b[38;5;241m=\u001b[39m \u001b[43mgenerating_training_sequences\u001b[49m\u001b[43m(\u001b[49m\u001b[43msequence_length\u001b[49m\u001b[43m)\u001b[49m\n",
      "Cell \u001b[1;32mIn[130], line 19\u001b[0m, in \u001b[0;36mgenerating_training_sequences\u001b[1;34m(sequence_length)\u001b[0m\n\u001b[0;32m     14\u001b[0m     \u001b[38;5;66;03m#inputs = inputs[:50000]  # Limit the number of inputs to 50000\u001b[39;00m\n\u001b[0;32m     15\u001b[0m     \u001b[38;5;66;03m#targets = targets[:50000]  # Limit the number of targets to 50000\u001b[39;00m\n\u001b[0;32m     16\u001b[0m     \n\u001b[0;32m     17\u001b[0m     \u001b[38;5;66;03m# One hot encoding the sequence\u001b[39;00m\n\u001b[0;32m     18\u001b[0m     vocabulary_size \u001b[38;5;241m=\u001b[39m \u001b[38;5;28mlen\u001b[39m(\u001b[38;5;28mset\u001b[39m(int_songs))\n\u001b[1;32m---> 19\u001b[0m     inputs \u001b[38;5;241m=\u001b[39m \u001b[43mkeras\u001b[49m\u001b[38;5;241;43m.\u001b[39;49m\u001b[43mutils\u001b[49m\u001b[38;5;241;43m.\u001b[39;49m\u001b[43mto_categorical\u001b[49m\u001b[43m(\u001b[49m\u001b[43minputs\u001b[49m\u001b[43m,\u001b[49m\u001b[43m \u001b[49m\u001b[43mnum_classes\u001b[49m\u001b[38;5;241;43m=\u001b[39;49m\u001b[43mvocabulary_size\u001b[49m\u001b[43m)\u001b[49m\n\u001b[0;32m     20\u001b[0m     targets \u001b[38;5;241m=\u001b[39m np\u001b[38;5;241m.\u001b[39marray(targets)\n\u001b[0;32m     22\u001b[0m \u001b[38;5;28;01mreturn\u001b[39;00m inputs, targets\n",
      "File \u001b[1;32md:\\ANACONDA\\envs\\tf_clean\\lib\\site-packages\\keras\\src\\utils\\np_utils.py:73\u001b[0m, in \u001b[0;36mto_categorical\u001b[1;34m(y, num_classes, dtype)\u001b[0m\n\u001b[0;32m     71\u001b[0m     num_classes \u001b[38;5;241m=\u001b[39m np\u001b[38;5;241m.\u001b[39mmax(y) \u001b[38;5;241m+\u001b[39m \u001b[38;5;241m1\u001b[39m\n\u001b[0;32m     72\u001b[0m n \u001b[38;5;241m=\u001b[39m y\u001b[38;5;241m.\u001b[39mshape[\u001b[38;5;241m0\u001b[39m]\n\u001b[1;32m---> 73\u001b[0m categorical \u001b[38;5;241m=\u001b[39m \u001b[43mnp\u001b[49m\u001b[38;5;241;43m.\u001b[39;49m\u001b[43mzeros\u001b[49m\u001b[43m(\u001b[49m\u001b[43m(\u001b[49m\u001b[43mn\u001b[49m\u001b[43m,\u001b[49m\u001b[43m \u001b[49m\u001b[43mnum_classes\u001b[49m\u001b[43m)\u001b[49m\u001b[43m,\u001b[49m\u001b[43m \u001b[49m\u001b[43mdtype\u001b[49m\u001b[38;5;241;43m=\u001b[39;49m\u001b[43mdtype\u001b[49m\u001b[43m)\u001b[49m\n\u001b[0;32m     74\u001b[0m categorical[np\u001b[38;5;241m.\u001b[39marange(n), y] \u001b[38;5;241m=\u001b[39m \u001b[38;5;241m1\u001b[39m\n\u001b[0;32m     75\u001b[0m output_shape \u001b[38;5;241m=\u001b[39m input_shape \u001b[38;5;241m+\u001b[39m (num_classes,)\n",
      "\u001b[1;31mMemoryError\u001b[0m: Unable to allocate 28.3 GiB for an array with shape (345538752, 22) and data type float32"
     ]
    }
   ],
   "source": [
    "if __name__ == \"__main__\":\n",
    "    main()"
   ]
  }
 ],
 "metadata": {
  "kernelspec": {
   "display_name": "tf_clean",
   "language": "python",
   "name": "python3"
  },
  "language_info": {
   "codemirror_mode": {
    "name": "ipython",
    "version": 3
   },
   "file_extension": ".py",
   "mimetype": "text/x-python",
   "name": "python",
   "nbconvert_exporter": "python",
   "pygments_lexer": "ipython3",
   "version": "3.9.23"
  }
 },
 "nbformat": 4,
 "nbformat_minor": 5
}
