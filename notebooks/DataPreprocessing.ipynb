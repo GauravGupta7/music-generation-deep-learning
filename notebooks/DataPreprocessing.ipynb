{
 "cells": [
  {
   "cell_type": "code",
   "execution_count": 39,
   "id": "c8ea670f",
   "metadata": {},
   "outputs": [],
   "source": [
    "# Importing libraries\n",
    "import os\n",
    "import music21 as m21\n"
   ]
  },
  {
   "cell_type": "code",
   "execution_count": null,
   "id": "09434131",
   "metadata": {},
   "outputs": [
    {
     "name": "stdout",
     "output_type": "stream",
     "text": [
      "../data/essen/europa/deutschl/\n"
     ]
    }
   ],
   "source": [
    "# Loadind the data from application yaml\n",
    "import yaml\n",
    "\n",
    "with open(\"../config/application.yaml\", \"r\") as file:\n",
    "    config = yaml.safe_load(file)\n",
    "    \n",
    "dataset_path = config['dataset_path']"
   ]
  },
  {
   "cell_type": "code",
   "execution_count": 41,
   "id": "943c74c4",
   "metadata": {},
   "outputs": [],
   "source": [
    "# defining a funtion to load all the files of the data set\n",
    "songs = []\n",
    "\n",
    "def load_songs_kern_dataset(dataset_path):\n",
    "    for path, subdirs, files in os.walk(dataset_path):\n",
    "        \n",
    "        # we need to filter out the \".krn\" files from the dataset\n",
    "        for file in files:\n",
    "            if file.endswith('.krn'):\n",
    "                song = m21.converter.parse(os.path.join(path, file))\n",
    "                songs.append(song)\n",
    "    return songs"
   ]
  },
  {
   "cell_type": "code",
   "execution_count": 42,
   "id": "7221d170",
   "metadata": {},
   "outputs": [],
   "source": [
    "# function to preproces the songs dataset and prepare the data for our model\n",
    "\n",
    "def preprocess_songs(dataset_path):\n",
    "    # Load the songs from the dataset\n",
    "    print(\"Loading songs from dataset...\")\n",
    "    songs = load_songs_kern_dataset(dataset_path)\n",
    "    print(f\"Loaded {len(songs)} songs from the dataset.\")"
   ]
  },
  {
   "cell_type": "code",
   "execution_count": 43,
   "id": "737fc470",
   "metadata": {},
   "outputs": [
    {
     "name": "stdout",
     "output_type": "stream",
     "text": [
      "Loading songs from dataset...\n"
     ]
    },
    {
     "name": "stderr",
     "output_type": "stream",
     "text": [
      "humdrum.spineParser: WARNING: Error in parsing event ('*MX') at position 8 for spine None: Incorrect meter: *MX found\n",
      "humdrum.spineParser: WARNING: Error in parsing event ('*MX') at position 8 for spine None: Incorrect meter: *MX found\n",
      "humdrum.spineParser: WARNING: Error in parsing event ('*MX') at position 8 for spine None: Incorrect meter: *MX found\n",
      "humdrum.spineParser: WARNING: Error in parsing event ('*MFREI4/4') at position 7 for spine None: Incorrect meter: *MFREI4/4 found\n",
      "humdrum.spineParser: WARNING: Error in parsing event ('*MX') at position 8 for spine None: Incorrect meter: *MX found\n",
      "humdrum.spineParser: WARNING: Error in parsing event ('*MX') at position 8 for spine None: Incorrect meter: *MX found\n",
      "humdrum.spineParser: WARNING: Error in parsing event ('*MX') at position 8 for spine None: Incorrect meter: *MX found\n",
      "humdrum.spineParser: WARNING: Error in parsing event ('*M5/1%%%2+3%') at position 52 for spine None: Cannot parse this file -- this error often comes up if the musicxml pickled file is out of date after a change in musicxml/__init__.py . Clear your temp directory of .p and .p.gz files and try again...; Time Signature: 5/1%%%2+3% \n",
      "humdrum.spineParser: WARNING: Error in parsing event ('*MX') at position 10 for spine None: Incorrect meter: *MX found\n",
      "humdrum.spineParser: WARNING: Error in parsing event ('*MX') at position 10 for spine None: Incorrect meter: *MX found\n",
      "humdrum.spineParser: WARNING: Error in parsing event ('*MX') at position 10 for spine None: Incorrect meter: *MX found\n",
      "humdrum.spineParser: WARNING: Error in parsing event ('*MX') at position 10 for spine None: Incorrect meter: *MX found\n",
      "humdrum.spineParser: WARNING: Error in parsing event ('*MX') at position 10 for spine None: Incorrect meter: *MX found\n",
      "humdrum.spineParser: WARNING: Error in parsing event ('*MX') at position 10 for spine None: Incorrect meter: *MX found\n",
      "humdrum.spineParser: WARNING: Error in parsing event ('*MX') at position 11 for spine None: Incorrect meter: *MX found\n",
      "humdrum.spineParser: WARNING: Error in parsing event ('*MX') at position 11 for spine None: Incorrect meter: *MX found\n",
      "humdrum.spineParser: WARNING: Error in parsing event ('*MX') at position 10 for spine None: Incorrect meter: *MX found\n",
      "humdrum.spineParser: WARNING: Error in parsing event ('*MX') at position 10 for spine None: Incorrect meter: *MX found\n",
      "humdrum.spineParser: WARNING: Error in parsing event ('*MX') at position 10 for spine None: Incorrect meter: *MX found\n",
      "humdrum.spineParser: WARNING: Error in parsing event ('*MX') at position 10 for spine None: Incorrect meter: *MX found\n",
      "humdrum.spineParser: WARNING: Error in parsing event ('*MX') at position 10 for spine None: Incorrect meter: *MX found\n",
      "humdrum.spineParser: WARNING: Error in parsing event ('*MX') at position 10 for spine None: Incorrect meter: *MX found\n",
      "humdrum.spineParser: WARNING: Error in parsing event ('*MX') at position 10 for spine None: Incorrect meter: *MX found\n",
      "humdrum.spineParser: WARNING: Error in parsing event ('*MX') at position 10 for spine None: Incorrect meter: *MX found\n",
      "humdrum.spineParser: WARNING: Error in parsing event ('*MX') at position 10 for spine None: Incorrect meter: *MX found\n",
      "humdrum.spineParser: WARNING: Error in parsing event ('*MX') at position 10 for spine None: Incorrect meter: *MX found\n",
      "humdrum.spineParser: WARNING: Error in parsing event ('*MX') at position 10 for spine None: Incorrect meter: *MX found\n",
      "humdrum.spineParser: WARNING: Error in parsing event ('*MX') at position 10 for spine None: Incorrect meter: *MX found\n",
      "humdrum.spineParser: WARNING: Error in parsing event ('*MX') at position 10 for spine None: Incorrect meter: *MX found\n",
      "humdrum.spineParser: WARNING: Error in parsing event ('*MX') at position 10 for spine None: Incorrect meter: *MX found\n",
      "humdrum.spineParser: WARNING: Error in parsing event ('*MX') at position 10 for spine None: Incorrect meter: *MX found\n",
      "humdrum.spineParser: WARNING: Error in parsing event ('*MX') at position 10 for spine None: Incorrect meter: *MX found\n",
      "humdrum.spineParser: WARNING: Error in parsing event ('*MX') at position 10 for spine None: Incorrect meter: *MX found\n",
      "humdrum.spineParser: WARNING: Error in parsing event ('*MX') at position 10 for spine None: Incorrect meter: *MX found\n",
      "humdrum.spineParser: WARNING: Error in parsing event ('*MX') at position 10 for spine None: Incorrect meter: *MX found\n",
      "humdrum.spineParser: WARNING: Error in parsing event ('*MX') at position 10 for spine None: Incorrect meter: *MX found\n",
      "humdrum.spineParser: WARNING: Error in parsing event ('*MX') at position 10 for spine None: Incorrect meter: *MX found\n",
      "humdrum.spineParser: WARNING: Error in parsing event ('*MX') at position 10 for spine None: Incorrect meter: *MX found\n",
      "humdrum.spineParser: WARNING: Error in parsing event ('*MX') at position 10 for spine None: Incorrect meter: *MX found\n",
      "humdrum.spineParser: WARNING: Error in parsing event ('*MX') at position 10 for spine None: Incorrect meter: *MX found\n",
      "humdrum.spineParser: WARNING: Error in parsing event ('*MX') at position 10 for spine None: Incorrect meter: *MX found\n",
      "humdrum.spineParser: WARNING: Error in parsing event ('*MX') at position 10 for spine None: Incorrect meter: *MX found\n",
      "humdrum.spineParser: WARNING: Error in parsing event ('*MX') at position 10 for spine None: Incorrect meter: *MX found\n",
      "humdrum.spineParser: WARNING: Error in parsing event ('*MX') at position 11 for spine None: Incorrect meter: *MX found\n",
      "humdrum.spineParser: WARNING: Error in parsing event ('*MX') at position 10 for spine None: Incorrect meter: *MX found\n",
      "humdrum.spineParser: WARNING: Error in parsing event ('*MX') at position 10 for spine None: Incorrect meter: *MX found\n",
      "humdrum.spineParser: WARNING: Error in parsing event ('*MX') at position 10 for spine None: Incorrect meter: *MX found\n",
      "humdrum.spineParser: WARNING: Error in parsing event ('*MX') at position 10 for spine None: Incorrect meter: *MX found\n",
      "humdrum.spineParser: WARNING: Error in parsing event ('*MX') at position 10 for spine None: Incorrect meter: *MX found\n",
      "humdrum.spineParser: WARNING: Error in parsing event ('*MX') at position 10 for spine None: Incorrect meter: *MX found\n",
      "humdrum.spineParser: WARNING: Error in parsing event ('*MX') at position 10 for spine None: Incorrect meter: *MX found\n",
      "humdrum.spineParser: WARNING: Error in parsing event ('*MX') at position 10 for spine None: Incorrect meter: *MX found\n",
      "humdrum.spineParser: WARNING: Error in parsing event ('*MX') at position 10 for spine None: Incorrect meter: *MX found\n",
      "humdrum.spineParser: WARNING: Error in parsing event ('*MX') at position 10 for spine None: Incorrect meter: *MX found\n",
      "humdrum.spineParser: WARNING: Error in parsing event ('*MX') at position 10 for spine None: Incorrect meter: *MX found\n",
      "humdrum.spineParser: WARNING: Error in parsing event ('*MX') at position 10 for spine None: Incorrect meter: *MX found\n",
      "humdrum.spineParser: WARNING: Error in parsing event ('*MX') at position 10 for spine None: Incorrect meter: *MX found\n",
      "humdrum.spineParser: WARNING: Error in parsing event ('*MX') at position 10 for spine None: Incorrect meter: *MX found\n",
      "humdrum.spineParser: WARNING: Error in parsing event ('*MX') at position 10 for spine None: Incorrect meter: *MX found\n",
      "humdrum.spineParser: WARNING: Error in parsing event ('*MX') at position 10 for spine None: Incorrect meter: *MX found\n",
      "humdrum.spineParser: WARNING: Error in parsing event ('*MX') at position 10 for spine None: Incorrect meter: *MX found\n",
      "humdrum.spineParser: WARNING: Error in parsing event ('*MX') at position 10 for spine None: Incorrect meter: *MX found\n",
      "humdrum.spineParser: WARNING: Error in parsing event ('*MX') at position 10 for spine None: Incorrect meter: *MX found\n",
      "humdrum.spineParser: WARNING: Error in parsing event ('*MX') at position 10 for spine None: Incorrect meter: *MX found\n",
      "humdrum.spineParser: WARNING: Error in parsing event ('*MX') at position 10 for spine None: Incorrect meter: *MX found\n",
      "humdrum.spineParser: WARNING: Error in parsing event ('*MX') at position 10 for spine None: Incorrect meter: *MX found\n",
      "humdrum.spineParser: WARNING: Error in parsing event ('*MX') at position 10 for spine None: Incorrect meter: *MX found\n",
      "humdrum.spineParser: WARNING: Error in parsing event ('*MX') at position 10 for spine None: Incorrect meter: *MX found\n",
      "humdrum.spineParser: WARNING: Error in parsing event ('*MX') at position 10 for spine None: Incorrect meter: *MX found\n",
      "humdrum.spineParser: WARNING: Error in parsing event ('*MX') at position 10 for spine None: Incorrect meter: *MX found\n",
      "humdrum.spineParser: WARNING: Error in parsing event ('*MX') at position 10 for spine None: Incorrect meter: *MX found\n",
      "humdrum.spineParser: WARNING: Error in parsing event ('*MX') at position 10 for spine None: Incorrect meter: *MX found\n",
      "humdrum.spineParser: WARNING: Error in parsing event ('*MX') at position 10 for spine None: Incorrect meter: *MX found\n",
      "humdrum.spineParser: WARNING: Error in parsing event ('*MX') at position 10 for spine None: Incorrect meter: *MX found\n",
      "humdrum.spineParser: WARNING: Error in parsing event ('*MX') at position 10 for spine None: Incorrect meter: *MX found\n",
      "humdrum.spineParser: WARNING: Error in parsing event ('*MX') at position 10 for spine None: Incorrect meter: *MX found\n",
      "humdrum.spineParser: WARNING: Error in parsing event ('*MX') at position 11 for spine None: Incorrect meter: *MX found\n",
      "humdrum.spineParser: WARNING: Error in parsing event ('*MX') at position 10 for spine None: Incorrect meter: *MX found\n",
      "humdrum.spineParser: WARNING: Error in parsing event ('*MX') at position 10 for spine None: Incorrect meter: *MX found\n",
      "humdrum.spineParser: WARNING: Error in parsing event ('*MX') at position 10 for spine None: Incorrect meter: *MX found\n",
      "humdrum.spineParser: WARNING: Error in parsing event ('*MX') at position 10 for spine None: Incorrect meter: *MX found\n",
      "humdrum.spineParser: WARNING: Error in parsing event ('*MX') at position 10 for spine None: Incorrect meter: *MX found\n",
      "humdrum.spineParser: WARNING: Error in parsing event ('*MX') at position 10 for spine None: Incorrect meter: *MX found\n",
      "humdrum.spineParser: WARNING: Error in parsing event ('*MX') at position 10 for spine None: Incorrect meter: *MX found\n",
      "humdrum.spineParser: WARNING: Error in parsing event ('*MX') at position 10 for spine None: Incorrect meter: *MX found\n",
      "humdrum.spineParser: WARNING: Error in parsing event ('*MX') at position 10 for spine None: Incorrect meter: *MX found\n",
      "humdrum.spineParser: WARNING: Error in parsing event ('*MX') at position 10 for spine None: Incorrect meter: *MX found\n",
      "humdrum.spineParser: WARNING: Error in parsing event ('*MX') at position 10 for spine None: Incorrect meter: *MX found\n",
      "humdrum.spineParser: WARNING: Error in parsing event ('*MX') at position 10 for spine None: Incorrect meter: *MX found\n",
      "humdrum.spineParser: WARNING: Error in parsing event ('*MX') at position 10 for spine None: Incorrect meter: *MX found\n",
      "humdrum.spineParser: WARNING: Error in parsing event ('*MX') at position 10 for spine None: Incorrect meter: *MX found\n",
      "humdrum.spineParser: WARNING: Error in parsing event ('*MX') at position 10 for spine None: Incorrect meter: *MX found\n",
      "humdrum.spineParser: WARNING: Error in parsing event ('*MX') at position 10 for spine None: Incorrect meter: *MX found\n",
      "humdrum.spineParser: WARNING: Error in parsing event ('*MX') at position 10 for spine None: Incorrect meter: *MX found\n",
      "humdrum.spineParser: WARNING: Error in parsing event ('*MX') at position 10 for spine None: Incorrect meter: *MX found\n",
      "humdrum.spineParser: WARNING: Error in parsing event ('*MX') at position 10 for spine None: Incorrect meter: *MX found\n",
      "humdrum.spineParser: WARNING: Error in parsing event ('*MX') at position 10 for spine None: Incorrect meter: *MX found\n",
      "humdrum.spineParser: WARNING: Error in parsing event ('*MX') at position 10 for spine None: Incorrect meter: *MX found\n",
      "humdrum.spineParser: WARNING: Error in parsing event ('*MX') at position 10 for spine None: Incorrect meter: *MX found\n",
      "humdrum.spineParser: WARNING: Error in parsing event ('*MX') at position 8 for spine None: Incorrect meter: *MX found\n",
      "humdrum.spineParser: WARNING: Error in parsing event ('*MX') at position 8 for spine None: Incorrect meter: *MX found\n",
      "humdrum.spineParser: WARNING: Error in parsing event ('*MX') at position 8 for spine None: Incorrect meter: *MX found\n"
     ]
    },
    {
     "name": "stdout",
     "output_type": "stream",
     "text": [
      "Loaded 5365 songs from the dataset.\n",
      "Preprocessing completed.\n"
     ]
    }
   ],
   "source": [
    "if __name__ == \"__main__\":\n",
    "    preprocess_songs(dataset_path)\n",
    "    print(\"Preprocessing completed.\")"
   ]
  }
 ],
 "metadata": {
  "kernelspec": {
   "display_name": "base",
   "language": "python",
   "name": "python3"
  },
  "language_info": {
   "codemirror_mode": {
    "name": "ipython",
    "version": 3
   },
   "file_extension": ".py",
   "mimetype": "text/x-python",
   "name": "python",
   "nbconvert_exporter": "python",
   "pygments_lexer": "ipython3",
   "version": "3.8.8"
  }
 },
 "nbformat": 4,
 "nbformat_minor": 5
}
