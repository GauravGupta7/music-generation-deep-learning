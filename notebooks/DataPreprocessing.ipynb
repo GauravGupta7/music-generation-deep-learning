{
 "cells": [
  {
   "cell_type": "code",
   "execution_count": 75,
   "id": "c8ea670f",
   "metadata": {},
   "outputs": [],
   "source": [
    "# Importing libraries\n",
    "import os\n",
    "import music21 as m21\n",
    "import json"
   ]
  },
  {
   "cell_type": "code",
   "execution_count": 76,
   "id": "09434131",
   "metadata": {},
   "outputs": [],
   "source": [
    "# Loadind the data from application yaml\n",
    "import yaml\n",
    "\n",
    "with open(\"../config/application.yaml\", \"r\") as file:\n",
    "    config = yaml.safe_load(file)\n",
    "    \n",
    "dataset_path = config['dataset_path']\n",
    "acceptable_durations = config['acceptable_durations']\n",
    "save_path = config['save_path']\n",
    "sequence_length = config['sequence_length']\n",
    "mapping_file_path = config['mapping_file_path']"
   ]
  },
  {
   "cell_type": "code",
   "execution_count": 77,
   "id": "943c74c4",
   "metadata": {},
   "outputs": [],
   "source": [
    "# defining a funtion to load all the files of the data set\n",
    "songs = []\n",
    "\n",
    "def load_songs_kern_dataset(dataset_path):\n",
    "    for path, subdirs, files in os.walk(dataset_path):\n",
    "        \n",
    "        # we need to filter out the \".krn\" files from the dataset\n",
    "        for file in files:\n",
    "            if file.endswith('.krn'):\n",
    "                song = m21.converter.parse(os.path.join(path, file))\n",
    "                songs.append(song)\n",
    "    return songs"
   ]
  },
  {
   "cell_type": "code",
   "execution_count": 78,
   "id": "58ca98dc",
   "metadata": {},
   "outputs": [],
   "source": [
    "# Function to transpose a song to another scale\n",
    "def transpose(song): \n",
    "    # get key from the song\n",
    "    parts = song.getElementsByClass(m21.stream.Part)\n",
    "    measure_part0 = parts[0].getElementsByClass(m21.stream.Measure)\n",
    "    key = measure_part0[0][4]\n",
    "    \n",
    "    # if key not present then estimate the key using music21\n",
    "    if not isinstance(key, m21.key.Key):\n",
    "        key = song.analyze('key')\n",
    "        \n",
    "    # get the interval for transposition (example: BMaj to CMaj)\n",
    "    if key.mode == 'major':\n",
    "        interval = m21.interval.Interval(key.tonic, m21.pitch.Pitch('C'))\n",
    "    elif key.mode == 'minor':\n",
    "        interval = m21.interval.Interval(key.tonic, m21.pitch.Pitch('A'))\n",
    "        \n",
    "    # transpose the song\n",
    "    transposed_song = song.transpose(interval)\n",
    "    \n",
    "    return transposed_song  "
   ]
  },
  {
   "cell_type": "markdown",
   "id": "29916cf6",
   "metadata": {},
   "source": [
    "Here we will encode the song into code-understandable form. We will encode the pitch by numbers and duration by '_'. The encode_song function will convert the song to its encoded form. \n",
    "\n",
    "For example, if pitch is 60 and duration is 1.0 then this note will be encoded as:\n",
    "[60, \"\\_\", \"\\_\", \"\\_\"]"
   ]
  },
  {
   "cell_type": "code",
   "execution_count": 79,
   "id": "98a45f00",
   "metadata": {},
   "outputs": [],
   "source": [
    "# Function to encode pitch and duration of song to machine-readable format\n",
    "def encode_song(song, time_step=0.25):\n",
    "    encoded_song = []\n",
    "    for event in song.flat.notesAndRests:\n",
    "        if isinstance(event, m21.note.Note):\n",
    "            symbol = event.pitch.midi\n",
    "        elif isinstance(event, m21.note.Rest):\n",
    "            symbol = 'r'\n",
    "            \n",
    "        # convert the notes and rests into time series notation\n",
    "        steps = int(event.duration.quarterLength/time_step)\n",
    "        for step in range(steps):\n",
    "            if step == 0:\n",
    "                encoded_song.append(symbol)\n",
    "            else:\n",
    "                encoded_song.append('_')\n",
    "                \n",
    "    # Calculate the duration of the song\n",
    "    encoded_song = \" \".join(map(str, encoded_song))\n",
    "    \n",
    "    return encoded_song"
   ]
  },
  {
   "cell_type": "code",
   "execution_count": 80,
   "id": "7221d170",
   "metadata": {},
   "outputs": [],
   "source": [
    "\n",
    "# function to preproces the songs dataset and prepare the data for our model\n",
    "\n",
    "def preprocess_songs(dataset_path):\n",
    "    # Load the songs from the dataset\n",
    "    print(\"Loading songs from dataset...\")\n",
    "    songs = load_songs_kern_dataset(dataset_path)\n",
    "    print(f\"Loaded {len(songs)} songs from the dataset.\")\n",
    "    \n",
    "    # Filter songs based on acceptable durations\n",
    "    print(\"Filtering songs based on acceptable durations...\")\n",
    "    for i, song in enumerate(songs):\n",
    "        if not has_acceptable_duration(song, acceptable_durations):\n",
    "            continue\n",
    "    \n",
    "        # Transpose song to C major or A minor\n",
    "        song = transpose(song)\n",
    "        \n",
    "        # Encode songs with music time series representation\n",
    "        encoded_song = encode_song(song)   \n",
    "        \n",
    "        # Save the encoded song to a file in save path\n",
    "        saved_path = os.path.join(save_path,  f\"song_{i}.txt\")\n",
    "        with open(saved_path, 'w') as fp:\n",
    "            fp.write(encoded_song)"
   ]
  },
  {
   "cell_type": "code",
   "execution_count": 81,
   "id": "c6122f33",
   "metadata": {},
   "outputs": [],
   "source": [
    "# Function to check whether a song has acceptable duration\n",
    "def has_acceptable_duration(song, acceptable_durations):\n",
    "    for note in song.flat.notesAndRests:\n",
    "        if note.duration.quarterLength not in acceptable_durations:\n",
    "            return False\n",
    "    return True"
   ]
  },
  {
   "cell_type": "code",
   "execution_count": 82,
   "id": "7accde95",
   "metadata": {},
   "outputs": [],
   "source": [
    "def load(file_path):\n",
    "    with open(file_path, 'r') as fp:\n",
    "        song = fp.read()\n",
    "    return song"
   ]
  },
  {
   "cell_type": "code",
   "execution_count": 83,
   "id": "469dafda",
   "metadata": {},
   "outputs": [],
   "source": [
    "# Creating a single file that will contain all the songs\n",
    "def create_single_file_dataset(dataset_path, sequence_length):\n",
    "    new_song_delimiter = \"/ \" * sequence_length\n",
    "    songs = \"\"\n",
    "    \n",
    "    # Load encoded songs and add delimiters\n",
    "    for path, _, files in os.walk(dataset_path):\n",
    "        for file in files:\n",
    "            file_path = os.path.join(path, file)\n",
    "            song = load(file_path)\n",
    "            songs = songs + song + \" \" + new_song_delimiter\n",
    "            songs = songs[:-1]     # remove the last delimiter to avoid trailing spaces\n",
    "            \n",
    "    # save the string in the single file\n",
    "    dataset_path1 = os.path.join(dataset_path,  f\"songs.txt\")\n",
    "    with open(dataset_path1, \"w\") as fp:\n",
    "        fp.write(songs)\n",
    "        \n",
    "    return songs"
   ]
  },
  {
   "cell_type": "code",
   "execution_count": 84,
   "id": "84fdd4ac",
   "metadata": {},
   "outputs": [],
   "source": [
    "# Creating a lookup table for all the symbols used in the final dataset\n",
    "def create_mapping(songs, mapping_file_path):\n",
    "    mappings = {}\n",
    "     \n",
    "    # Identify the vocabluary\n",
    "    songs = songs.split()\n",
    "    vocabulary = list(set(songs))\n",
    "     \n",
    "    # Create mappings\n",
    "    for i, symbol in enumerate(vocabulary):\n",
    "        mappings[symbol] = i\n",
    "         \n",
    "    # save the vocalbuary to a file\n",
    "    with open(mapping_file_path, 'w') as fp:\n",
    "        json.dump(mappings, fp, indent=4)"
   ]
  },
  {
   "cell_type": "code",
   "execution_count": 85,
   "id": "737fc470",
   "metadata": {},
   "outputs": [
    {
     "name": "stdout",
     "output_type": "stream",
     "text": [
      "Loading songs from dataset...\n",
      "Loaded 12 songs from the dataset.\n",
      "Filtering songs based on acceptable durations...\n"
     ]
    }
   ],
   "source": [
    "if __name__ == \"__main__\":\n",
    "    preprocess_songs(dataset_path)\n",
    "    songs = create_single_file_dataset(save_path, sequence_length)\n",
    "    create_mapping(songs, mapping_file_path)"
   ]
  }
 ],
 "metadata": {
  "kernelspec": {
   "display_name": "base",
   "language": "python",
   "name": "python3"
  },
  "language_info": {
   "codemirror_mode": {
    "name": "ipython",
    "version": 3
   },
   "file_extension": ".py",
   "mimetype": "text/x-python",
   "name": "python",
   "nbconvert_exporter": "python",
   "pygments_lexer": "ipython3",
   "version": "3.8.8"
  }
 },
 "nbformat": 4,
 "nbformat_minor": 5
}
